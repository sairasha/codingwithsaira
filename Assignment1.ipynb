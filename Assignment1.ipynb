{
 "cells": [
  {
   "cell_type": "markdown",
   "metadata": {},
   "source": [
    "Assignment 1: String Concatenation and Formatting\n",
    "\n",
    "Instructions:\n",
    "\n",
    "Create a variable name and assign your name to it.\n",
    "Create a variable age and assign your age to it.\n",
    "Create a variable country and assign your country of residence to it.\n",
    "Using the + operator, concatenate the variables to form a sentence in the following format: \"My name is <name>, I am <age> years old, and I live in <country>.\"\n",
    "Print the concatenated sentence."
   ]
  },
  {
   "cell_type": "code",
   "execution_count": 1,
   "metadata": {},
   "outputs": [
    {
     "name": "stdout",
     "output_type": "stream",
     "text": [
      "My name is Saira Shaikh, I am 37 and i live in Pakistan\n"
     ]
    }
   ],
   "source": [
    "\n",
    "name = \"Saira Shaikh\"\n",
    "age = 37\n",
    "country = \"Pakistan\"\n",
    "sentence = \"My name is \" + name + \", I am \" + str(age)  + \" and i live in \" + country\n",
    "print(sentence)"
   ]
  },
  {
   "cell_type": "markdown",
   "metadata": {},
   "source": [
    "Assignment 2: String Formatting using .format()\n",
    "\n",
    "Instructions:\n",
    "\n",
    "Create a variable item and assign a product name to it (e.g., \"laptop\", \"book\", \"phone\").\n",
    "Create a variable price and assign a price to the item.\n",
    "Create a variable quantity and assign a quantity value.\n",
    "Calculate the total cost using the formula: total_cost = price * quantity.\n",
    "Using the .format() method, create a formatted string: \"I bought <quantity> <item>(s) at <price> each, for a total of $<total_cost>.\"\n",
    "Print the formatted string."
   ]
  },
  {
   "cell_type": "code",
   "execution_count": 2,
   "metadata": {},
   "outputs": [
    {
     "name": "stdout",
     "output_type": "stream",
     "text": [
      "I bought 3 books at 200 each, for total of $ 600\n"
     ]
    }
   ],
   "source": [
    "item = \"books\"\n",
    "price = 200\n",
    "quantity = 3\n",
    "total_cost = price * quantity\n",
    "cost = \"I bought {2} {0} at {1} each, for total of $ {3}\" .format(item, price, quantity, total_cost)\n",
    "print(cost)"
   ]
  },
  {
   "cell_type": "markdown",
   "metadata": {},
   "source": [
    "Assignment 3: String Interpolation using f\n",
    "\n",
    "Instructions:\n",
    "\n",
    "Create a variable city and assign the name of a city.\n",
    "Create a variable temperature and assign a temperature value in Celsius.\n",
    "Using f'' string interpolation, create a string: \"The temperature in <city> is <temperature>°C.\"\n",
    "Print the interpolated string."
   ]
  },
  {
   "cell_type": "code",
   "execution_count": 6,
   "metadata": {},
   "outputs": [
    {
     "name": "stdout",
     "output_type": "stream",
     "text": [
      "The temperature in Karachi is 30°C.\n"
     ]
    }
   ],
   "source": [
    "city = \"Karachi\"\n",
    "temperature = 30\n",
    "a = f\"The temperature in {city} is {temperature}°C.\"\n",
    "print(a)"
   ]
  },
  {
   "cell_type": "markdown",
   "metadata": {},
   "source": [
    "Assignment 4: String Formatting using %()\n",
    "\n",
    "Instructions:\n",
    "\n",
    "Create a variable first_name and assign your first name to it.\n",
    "Create a variable last_name and assign your last name to it.\n",
    "Create a variable birth_year and assign your birth year.\n",
    "Calculate your age using the formula: age = current_year - birth_year, where current_year is the current year.\n",
    "Using %() string formatting, create a string: \"My name is %(first_name)s %(last_name)s. I am %(age)d years old.\"\n",
    "Print the formatted string.\n",
    "\n"
   ]
  },
  {
   "cell_type": "code",
   "execution_count": 7,
   "metadata": {},
   "outputs": [
    {
     "name": "stdout",
     "output_type": "stream",
     "text": [
      "My name is Saira Shaikh. I am 37 years old.\n"
     ]
    }
   ],
   "source": [
    "first_name = \"Saira\"\n",
    "last_name = \"Shaikh\"\n",
    "birth_year = 1986\n",
    "current_year = 2023\n",
    "age = current_year - birth_year\n",
    "sentence = \"My name is %s %s. I am %d years old.\" % (first_name,last_name,age)\n",
    "print(sentence)"
   ]
  },
  {
   "cell_type": "markdown",
   "metadata": {},
   "source": [
    "Assignment 5: Combining Formatting Methods\n",
    "\n",
    "Instructions:\n",
    "\n",
    "Create a variable product and assign a product name.\n",
    "Create a variable discount and assign a discount percentage.\n",
    "Create a variable original_price and assign an original price.\n",
    "Calculate the discounted price using the formula: discounted_price = original_price * (1 - discount / 100).\n",
    "Using any combination of string formatting methods (+, .format(), f'', %()), create a descriptive string with the product name, original price, discount percentage, and discounted price.\n",
    "Print the descriptive string."
   ]
  },
  {
   "cell_type": "code",
   "execution_count": 8,
   "metadata": {},
   "outputs": [
    {
     "name": "stdout",
     "output_type": "stream",
     "text": [
      "On Sunday morning, a boy went to buy a book from a bookstore. The original price of the book was 800Rs.\n",
      "Due to special ocassion, there was 10% discount on every book. So the discounted price of the book was 720.0Rs.\n"
     ]
    }
   ],
   "source": [
    "product = \"book\"\n",
    "discount = 10\n",
    "original_price = 800\n",
    "discounted_price = discounted_price = original_price * (1 - discount / 100)\n",
    "a = f\"On Sunday morning, a boy went to buy a {product} from a bookstore. The original price of the book was {original_price}Rs.\\\n",
    "\\nDue to special ocassion, there was {discount}% discount on every book. So the discounted price of the book was {discounted_price}Rs.\"\n",
    "print(a)"
   ]
  }
 ],
 "metadata": {
  "kernelspec": {
   "display_name": "Python 3",
   "language": "python",
   "name": "python3"
  },
  "language_info": {
   "codemirror_mode": {
    "name": "ipython",
    "version": 3
   },
   "file_extension": ".py",
   "mimetype": "text/x-python",
   "name": "python",
   "nbconvert_exporter": "python",
   "pygments_lexer": "ipython3",
   "version": "3.11.5"
  },
  "orig_nbformat": 4
 },
 "nbformat": 4,
 "nbformat_minor": 2
}
