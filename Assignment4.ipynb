{
  "cells": [
    {
      "cell_type": "code",
      "execution_count": 3,
      "metadata": {
        "colab": {
          "base_uri": "https://localhost:8080/"
        },
        "id": "TuKE9U46mC7u",
        "outputId": "0de61b6f-0c78-4bd6-85dc-6c052b7c5b37"
      },
      "outputs": [
        {
          "name": "stdout",
          "output_type": "stream",
          "text": [
            "['0301-1234567', '042-35678901']\n"
          ]
        }
      ],
      "source": [
        "text = \"Please contact me at 0301-1234567 or 042-35678901 for further details.\"\n",
        "\n",
        "import re\n",
        "pattern =  r'\\d{3,4}-?\\d{7,8}'\n",
        "phone_numbers = re.findall(pattern, text)\n",
        "print(phone_numbers)"
      ]
    },
    {
      "cell_type": "code",
      "execution_count": 4,
      "metadata": {
        "colab": {
          "base_uri": "https://localhost:8080/"
        },
        "id": "xUeV8tVavo6p",
        "outputId": "a8ac8099-9494-4569-8d5a-657b63abc874"
      },
      "outputs": [
        {
          "name": "stdout",
          "output_type": "stream",
          "text": [
            "['info@example.com', 'support@domain.pk']\n"
          ]
        }
      ],
      "source": [
        "data = \"Contact us at info@example.com or support@domain.pk for assistance.\"\n",
        "\n",
        "\n",
        "pattern = r'[A-Za-z]+@[A-Za-z]+\\.[A-Za-z]{2,3}'\n",
        "email_address = re.findall(pattern,data)\n",
        "print(email_address)\n"
      ]
    },
    {
      "cell_type": "code",
      "execution_count": null,
      "metadata": {
        "colab": {
          "base_uri": "https://localhost:8080/"
        },
        "id": "EQryXPOGFCia",
        "outputId": "a4ce98f5-4bf7-44ec-c9c9-77a73e58548c"
      },
      "outputs": [
        {
          "name": "stdout",
          "output_type": "stream",
          "text": [
            "Pakistani CNIC: ['12345-6789012-3', '34567-8901234-5']\n"
          ]
        }
      ],
      "source": [
        "Text = \"My CNIC is 12345-6789012-3 and another one is 34567-8901234-5\"\n",
        "\n",
        "pattern = r'[0-9]{5}-[0-9]{7}-[0-9]{1}'\n",
        "CNIC = re.findall(pattern,Text)\n",
        "print(f\"Pakistani CNIC: {CNIC}\")"
      ]
    },
    {
      "cell_type": "code",
      "execution_count": 8,
      "metadata": {
        "id": "305incmPLV-o"
      },
      "outputs": [
        {
          "data": {
            "text/plain": [
              "[' یہ ', ' میں کچھ ', ' ', ' بھی ہیں۔']"
            ]
          },
          "execution_count": 8,
          "metadata": {},
          "output_type": "execute_result"
        }
      ],
      "source": [
        "Text = \" یہ sentence میں کچھ English words بھی ہیں۔\"\n",
        "\n",
        "import re \n",
        "pattern = r'[^A-Za-z0-9]+'\n",
        "re.findall(pattern,Text)\n",
        "# print"
      ]
    },
    {
      "cell_type": "code",
      "execution_count": null,
      "metadata": {
        "colab": {
          "base_uri": "https://localhost:8080/"
        },
        "id": "m2NwX6ZYkhRl",
        "outputId": "ea9f82f1-2022-4560-f353-fe1c4a47b69f"
      },
      "outputs": [
        {
          "name": "stdout",
          "output_type": "stream",
          "text": [
            "Dates: ['15-08-2023', '23-09-2023']\n"
          ]
        }
      ],
      "source": [
        "Text = \"The event will take place on 15-08-2023 and 23-09-2023.\"\n",
        "\n",
        "import re\n",
        "\n",
        "pattern = r'[0-9]{2}-[0-9]{2}-[0-9]{4}'\n",
        "Date = re.findall(pattern,Text)\n",
        "print(f\"Dates: {Date}\")"
      ]
    },
    {
      "cell_type": "code",
      "execution_count": 25,
      "metadata": {
        "colab": {
          "base_uri": "https://localhost:8080/"
        },
        "id": "BARSzSlMFTwT",
        "outputId": "28bdbc94-fa4f-4c63-d3be-d7afab87ba3e"
      },
      "outputs": [
        {
          "name": "stdout",
          "output_type": "stream",
          "text": [
            "['PKR 1500', 'Rs. 2500']\n"
          ]
        }
      ],
      "source": [
        "import re\n",
        "\n",
        "\n",
        "text = \"The product costs PKR 1500, while the deluxe version is priced at Rs. 2500.\"\n",
        "\n",
        "\n",
        "#pattern= r\"....[0-9]+\"\n",
        "pattern = \"PKR \\d+|Rs. \\d+\"\n",
        "\n",
        "pakistani_rupees = re.findall(pattern,text)\n",
        "print(pakistani_rupees)\n"
      ]
    },
    {
      "cell_type": "code",
      "execution_count": null,
      "metadata": {
        "colab": {
          "base_uri": "https://localhost:8080/"
        },
        "id": "vtvwl13zsMp2",
        "outputId": "f5bfe78d-9f74-449e-a878-1fc0362f1d82"
      },
      "outputs": [
        {
          "name": "stdout",
          "output_type": "stream",
          "text": [
            "['http://www.example.pk', 'https://website.com.pk']\n"
          ]
        }
      ],
      "source": [
        "Text = \"Visit http://www.example.pk or https://website.com.pk for more information.\"\n",
        "\n",
        "#pattern = r'http.?:\\/\\/[A-Za-z]{0,3}[\\.[A-Za-z]+]+.pk'\n",
        "pattern = r\"http.?://\\w+[\\.\\w+]*\\.\\w{2,3}\"\n",
        "Date = re.findall(pattern,Text)\n",
        "print(Date)"
      ]
    },
    {
      "cell_type": "code",
      "execution_count": 12,
      "metadata": {
        "colab": {
          "base_uri": "https://localhost:8080/"
        },
        "id": "xnvKhKli2HPT",
        "outputId": "fc40dc10-eb15-47c4-b679-1c5e51660c82"
      },
      "outputs": [
        {
          "name": "stdout",
          "output_type": "stream",
          "text": [
            "['PKR 1500']\n"
          ]
        }
      ],
      "source": [
        "Text = \"The product costs PKR 1500, while the deluxe version is priced at Rs. 2500.\"\n",
        "\n",
        "import re\n",
        "\n",
        "\n",
        "pattern = r\"\\b\\w{2,3} \\d{4}\\b\"\n",
        "pakistani_rupees = re.findall(pattern,Text)\n",
        "print(pakistani_rupees)\n"
      ]
    },
    {
      "cell_type": "code",
      "execution_count": 2,
      "metadata": {},
      "outputs": [
        {
          "data": {
            "text/plain": [
              "['کیا', ' آپ', ' یہاں']"
            ]
          },
          "execution_count": 2,
          "metadata": {},
          "output_type": "execute_result"
        }
      ],
      "source": [
        "\n",
        "\n",
        "Text =  \"کیا! آپ, یہاں؟\"\n",
        "\n",
        "import re\n",
        "\n",
        "pattern = r'[^!؟,]+'\n",
        "re.findall(pattern,Text)\n",
        "# print\n"
      ]
    },
    {
      "cell_type": "code",
      "execution_count": 3,
      "metadata": {},
      "outputs": [
        {
          "data": {
            "text/plain": [
              "['Lahore', 'Karachi', 'Islamabad', 'Peshawar']"
            ]
          },
          "execution_count": 3,
          "metadata": {},
          "output_type": "execute_result"
        }
      ],
      "source": [
        "text = \"Lahore, Karachi, Islamabad, and Peshawar are major cities of Pakistan.\"\n",
        "\n",
        "pattern = \"Lahore|Karachi|Islamabad|Peshawar\"\n",
        "\n",
        "import re\n",
        "re.findall(pattern, text)"
      ]
    },
    {
      "cell_type": "code",
      "execution_count": 4,
      "metadata": {},
      "outputs": [
        {
          "data": {
            "text/plain": [
              "['LEA-567']"
            ]
          },
          "execution_count": 4,
          "metadata": {},
          "output_type": "execute_result"
        }
      ],
      "source": [
        "text = \"I saw a car with the number plate LEA-567 near the market.\"\n",
        "\n",
        "pattern =  r'\\w{3,4}-?\\d{3,4}'\n",
        "re.findall(pattern, text)"
      ]
    }
  ],
  "metadata": {
    "colab": {
      "provenance": []
    },
    "kernelspec": {
      "display_name": "Python 3",
      "name": "python3"
    },
    "language_info": {
      "codemirror_mode": {
        "name": "ipython",
        "version": 3
      },
      "file_extension": ".py",
      "mimetype": "text/x-python",
      "name": "python",
      "nbconvert_exporter": "python",
      "pygments_lexer": "ipython3",
      "version": "3.11.5"
    }
  },
  "nbformat": 4,
  "nbformat_minor": 0
}
